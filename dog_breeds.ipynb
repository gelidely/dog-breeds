{
 "cells": [
  {
   "cell_type": "markdown",
   "metadata": {},
   "source": [
    "# STEP 0: PROJECT SETUP\n",
    "##### The objective of this notebook is to develop a deep learning model from scratch. While we could load existing weights from pre-trained models to achieve a higher prediction accuracy, I'd like to develop a model for images that have not been included on previously trained models, such as ImageNet. \n",
    "##### The experience gained developing this model will be used for creating a classifier for vintage postcards to predict the type of postcard based on technical specifications (i.e. real photo, white border era, undivided back, photochrome, etc.), which require extreme zooming into the high-res scans of each image to detect printing patterns, as well as to analyze the full front and back views of each postcard."
   ]
  },
  {
   "cell_type": "markdown",
   "metadata": {},
   "source": [
    "### Import libraries:"
   ]
  },
  {
   "cell_type": "code",
   "execution_count": 1,
   "metadata": {},
   "outputs": [
    {
     "name": "stderr",
     "output_type": "stream",
     "text": [
      "C:\\Users\\centli\\Anaconda3\\lib\\site-packages\\h5py\\__init__.py:36: FutureWarning: Conversion of the second argument of issubdtype from `float` to `np.floating` is deprecated. In future, it will be treated as `np.float64 == np.dtype(float).type`.\n",
      "  from ._conv import register_converters as _register_converters\n",
      "Using TensorFlow backend.\n"
     ]
    }
   ],
   "source": [
    "import os\n",
    "import random\n",
    "import cv2 as cv\n",
    "import numpy as np\n",
    "import pandas as pd\n",
    "import tensorflow as tf\n",
    "\n",
    "from keras.preprocessing import image as im\n",
    "from keras.models import Sequential\n",
    "from keras.optimizers import Adam\n",
    "from keras.layers import Dense, Dropout, Flatten, Activation\n",
    "from keras.layers.convolutional import Conv2D, MaxPooling2D\n",
    "from keras.layers.normalization import BatchNormalization\n",
    "\n",
    "from matplotlib import pyplot as plt\n",
    "%matplotlib inline\n",
    "\n",
    "from time import time\n",
    "from winsound import Beep"
   ]
  },
  {
   "cell_type": "markdown",
   "metadata": {},
   "source": [
    "### Set up local project directory:\n",
    "##### Keeps code cleaner by setting a default local root folder"
   ]
  },
  {
   "cell_type": "code",
   "execution_count": 2,
   "metadata": {},
   "outputs": [
    {
     "name": "stdout",
     "output_type": "stream",
     "text": [
      "E:\\DeepLearning\\dog_breeds\n"
     ]
    }
   ],
   "source": [
    "os.chdir(os.path.join('E:/', 'DeepLearning', 'dog_breeds'))\n",
    "print(os.getcwd())"
   ]
  },
  {
   "cell_type": "markdown",
   "metadata": {},
   "source": [
    "# STEP 1: PREPARE LABELS"
   ]
  },
  {
   "cell_type": "markdown",
   "metadata": {},
   "source": [
    "### Read labels file and display the first and last 5 rows:\n",
    "##### Here, we make sure that our labels data file was read correctly"
   ]
  },
  {
   "cell_type": "code",
   "execution_count": 3,
   "metadata": {},
   "outputs": [
    {
     "data": {
      "text/html": [
       "<div>\n",
       "<style scoped>\n",
       "    .dataframe tbody tr th:only-of-type {\n",
       "        vertical-align: middle;\n",
       "    }\n",
       "\n",
       "    .dataframe tbody tr th {\n",
       "        vertical-align: top;\n",
       "    }\n",
       "\n",
       "    .dataframe thead th {\n",
       "        text-align: right;\n",
       "    }\n",
       "</style>\n",
       "<table border=\"1\" class=\"dataframe\">\n",
       "  <thead>\n",
       "    <tr style=\"text-align: right;\">\n",
       "      <th></th>\n",
       "      <th>id</th>\n",
       "      <th>breed</th>\n",
       "    </tr>\n",
       "  </thead>\n",
       "  <tbody>\n",
       "    <tr>\n",
       "      <th>0</th>\n",
       "      <td>000bec180eb18c7604dcecc8fe0dba07</td>\n",
       "      <td>boston_bull</td>\n",
       "    </tr>\n",
       "    <tr>\n",
       "      <th>1</th>\n",
       "      <td>001513dfcb2ffafc82cccf4d8bbaba97</td>\n",
       "      <td>dingo</td>\n",
       "    </tr>\n",
       "    <tr>\n",
       "      <th>2</th>\n",
       "      <td>001cdf01b096e06d78e9e5112d419397</td>\n",
       "      <td>pekinese</td>\n",
       "    </tr>\n",
       "    <tr>\n",
       "      <th>3</th>\n",
       "      <td>00214f311d5d2247d5dfe4fe24b2303d</td>\n",
       "      <td>bluetick</td>\n",
       "    </tr>\n",
       "    <tr>\n",
       "      <th>4</th>\n",
       "      <td>0021f9ceb3235effd7fcde7f7538ed62</td>\n",
       "      <td>golden_retriever</td>\n",
       "    </tr>\n",
       "    <tr>\n",
       "      <th>10217</th>\n",
       "      <td>ffd25009d635cfd16e793503ac5edef0</td>\n",
       "      <td>borzoi</td>\n",
       "    </tr>\n",
       "    <tr>\n",
       "      <th>10218</th>\n",
       "      <td>ffd3f636f7f379c51ba3648a9ff8254f</td>\n",
       "      <td>dandie_dinmont</td>\n",
       "    </tr>\n",
       "    <tr>\n",
       "      <th>10219</th>\n",
       "      <td>ffe2ca6c940cddfee68fa3cc6c63213f</td>\n",
       "      <td>airedale</td>\n",
       "    </tr>\n",
       "    <tr>\n",
       "      <th>10220</th>\n",
       "      <td>ffe5f6d8e2bff356e9482a80a6e29aac</td>\n",
       "      <td>miniature_pinscher</td>\n",
       "    </tr>\n",
       "    <tr>\n",
       "      <th>10221</th>\n",
       "      <td>fff43b07992508bc822f33d8ffd902ae</td>\n",
       "      <td>chesapeake_bay_retriever</td>\n",
       "    </tr>\n",
       "  </tbody>\n",
       "</table>\n",
       "</div>"
      ],
      "text/plain": [
       "                                     id                     breed\n",
       "0      000bec180eb18c7604dcecc8fe0dba07               boston_bull\n",
       "1      001513dfcb2ffafc82cccf4d8bbaba97                     dingo\n",
       "2      001cdf01b096e06d78e9e5112d419397                  pekinese\n",
       "3      00214f311d5d2247d5dfe4fe24b2303d                  bluetick\n",
       "4      0021f9ceb3235effd7fcde7f7538ed62          golden_retriever\n",
       "10217  ffd25009d635cfd16e793503ac5edef0                    borzoi\n",
       "10218  ffd3f636f7f379c51ba3648a9ff8254f            dandie_dinmont\n",
       "10219  ffe2ca6c940cddfee68fa3cc6c63213f                  airedale\n",
       "10220  ffe5f6d8e2bff356e9482a80a6e29aac        miniature_pinscher\n",
       "10221  fff43b07992508bc822f33d8ffd902ae  chesapeake_bay_retriever"
      ]
     },
     "metadata": {},
     "output_type": "display_data"
    }
   ],
   "source": [
    "labels = pd.read_csv('labels.csv')\n",
    "display(labels.iloc[np.r_[0:5, -5:0]])"
   ]
  },
  {
   "cell_type": "markdown",
   "metadata": {},
   "source": [
    "### Image settings:\n",
    "##### Here, we set the image size that we want to use for the project. 128x128 is the maximum I was able to run on my GPU, and 256x256 would fail. We keep at 64x64 for computing efficiency."
   ]
  },
  {
   "cell_type": "code",
   "execution_count": 4,
   "metadata": {},
   "outputs": [],
   "source": [
    "# target image size (width and height)\n",
    "w, h = 96, 96"
   ]
  },
  {
   "cell_type": "markdown",
   "metadata": {},
   "source": [
    "### Split data into Train, Validate and Test sets at random, based on labels data (80:10:10):"
   ]
  },
  {
   "cell_type": "code",
   "execution_count": 5,
   "metadata": {},
   "outputs": [
    {
     "name": "stdout",
     "output_type": "stream",
     "text": [
      "Total:10222 / Train:8178 / Validate:1022 / Test:1022\n"
     ]
    }
   ],
   "source": [
    "# set seed for reproducibility\n",
    "random.seed(123)\n",
    "\n",
    "# get list of all image id's in labels data\n",
    "id_list = [id for id in labels.id]\n",
    "\n",
    "# percentage assigned to train set (80% of total)\n",
    "id_list_train = random.sample(id_list, int(np.round(len(id_list) * 0.80)))  \n",
    "\n",
    "# remove images assigned to train set\n",
    "id_list = [id for id in id_list if id not in id_list_train]  \n",
    "\n",
    "# assign half of non-train images to validate set (10% of total)\n",
    "id_list_validate = random.sample(id_list, int(np.round(len(id_list) * 0.50)))  \n",
    "\n",
    "# remaining images are test set\n",
    "id_list_test = [id for id in id_list if id not in id_list_validate]  \n",
    "\n",
    "print(f\"Total:{len(labels)} / Train:{len(id_list_train)} / Validate:{len(id_list_validate)} / Test:{len(id_list_test)}\")"
   ]
  },
  {
   "cell_type": "markdown",
   "metadata": {},
   "source": [
    "# STEP 2: PREPARE IMAGES"
   ]
  },
  {
   "cell_type": "markdown",
   "metadata": {},
   "source": [
    "### Resize images and copy them to Train, Validate and Test folders, and into each corresponding classification folder (Optional resizing and data augmentation):\n",
    "##### While saving augmented images to disk is not necessary for training, it is very educational to be able to see what the augmented images look like. The Train and Validation folders include subfolders with the breed label as their name. For training, each original image has been augmented a few times, as seen in the \"augment_size\" variable, below. \n",
    "##### The Test folder includes just one subfolder without any labels, and images are not augmented."
   ]
  },
  {
   "cell_type": "code",
   "execution_count": 6,
   "metadata": {},
   "outputs": [
    {
     "name": "stdout",
     "output_type": "stream",
     "text": [
      "Image preparation in progress...\n",
      "Image preparation completed successfully\n"
     ]
    }
   ],
   "source": [
    "# to bypass the data augmentation process set \"augment_size = 0\" \n",
    "def process_images(list_src, path_src, path_dst, subfolders, augment_size, img_size, resize):    \n",
    "    \n",
    "    augment = im.ImageDataGenerator(rotation_range=20, width_shift_range=0.1, height_shift_range=0.1, shear_range=0.5,\n",
    "                        rescale=1/255, zoom_range=(0.9,1.1), horizontal_flip=True, vertical_flip=False, fill_mode='constant')\n",
    "\n",
    "    for id in list_src:    \n",
    "        \n",
    "        if subfolders:                        \n",
    "            breed = labels[labels.id == id].breed.item()  \n",
    "        else:\n",
    "            # no subfolders used\n",
    "            breed = 'test' \n",
    "        \n",
    "        # make subfolders using breed labels\n",
    "        if not os.path.exists(f\"{path_dst}{breed}\"):\n",
    "            os.makedirs(f\"{path_dst}{breed}\")\n",
    "            \n",
    "        # read and resize images            \n",
    "        img = cv.imread(f\"{path_src}{id}.jpg\")  \n",
    "        if resize:\n",
    "            img = cv.resize(img, img_size)\n",
    "\n",
    "        # save original images\n",
    "        cv.imwrite(f\"{path_dst}{breed}/{id}.jpg\", img)    \n",
    "\n",
    "        # save augmented images (optional)\n",
    "        if augment_size > 0:            \n",
    "            img = cv.cvtColor(img, cv.COLOR_BGR2RGB)\n",
    "            x = img.reshape((1,) + img.shape)\n",
    "            i = 0\n",
    "            for batch in augment.flow(x, save_to_dir=f\"{path_dst}{breed}\", save_prefix=f\"{id}\", save_format='jpg'):\n",
    "                i += 1\n",
    "                if i >= augment_size:\n",
    "                    break         \n",
    "        \n",
    "            \n",
    "print('Image preparation in progress...')\n",
    "\n",
    "process_images(id_list_train, 'downloaded/train/', 'train/', subfolders=True, augment_size=4, img_size=(w,h), resize=True)\n",
    "process_images(id_list_validate, 'downloaded/train/', 'validate/', subfolders=True, augment_size=0, img_size=(w,h), resize=True)\n",
    "process_images(id_list_test, 'downloaded/train/', 'test/', subfolders=False, augment_size=0, img_size=(w,h), resize=True)\n",
    "\n",
    "print('Image preparation completed successfully')\n",
    "Beep(500,500)"
   ]
  },
  {
   "cell_type": "markdown",
   "metadata": {},
   "source": [
    "### Display a few sample images from Train folder:"
   ]
  },
  {
   "cell_type": "code",
   "execution_count": 7,
   "metadata": {},
   "outputs": [
    {
     "data": {
      "image/png": "[encoded data removed]",
      "text/plain": [
       "<Figure size 360x360 with 5 Axes>"
      ]
     },
     "metadata": {},
     "output_type": "display_data"
    },
    {
     "data": {
      "image/png": "[encoded data removed]",
      "text/plain": [
       "<Figure size 360x360 with 5 Axes>"
      ]
     },
     "metadata": {},
     "output_type": "display_data"
    },
    {
     "data": {
      "image/png": "[encoded data removed]",
      "text/plain": [
       "<Figure size 360x360 with 5 Axes>"
      ]
     },
     "metadata": {},
     "output_type": "display_data"
    },
    {
     "data": {
      "image/png": "[encoded data removed]",
      "text/plain": [
       "<Figure size 360x360 with 5 Axes>"
      ]
     },
     "metadata": {},
     "output_type": "display_data"
    },
    {
     "data": {
      "image/png": "[encoded data removed]",
      "text/plain": [
       "<Figure size 360x360 with 5 Axes>"
      ]
     },
     "metadata": {},
     "output_type": "display_data"
    }
   ],
   "source": [
    "def sample_images(path, num_folders):\n",
    "\n",
    "    dir_list = os.listdir(path)[0:num_folders]\n",
    "\n",
    "    for dir in dir_list:     \n",
    "        prefix = os.listdir(f'{path}{dir}')[0].replace('.jpg', '')    \n",
    "        img_files = [filename for filename in os.listdir(f'{path}{dir}') if filename.startswith(prefix)]\n",
    "        tot_img_files = len(img_files)\n",
    "\n",
    "        fig = plt.figure(figsize=(tot_img_files, tot_img_files))            \n",
    "        for k in range(0, tot_img_files):    \n",
    "            fig.add_subplot(1, tot_img_files, k+1)\n",
    "            plt.imshow(im.load_img(f'{path}{dir}/{img_files[k]}'))\n",
    "            plt.axis('off')        \n",
    "            \n",
    "sample_images('train/', 5)"
   ]
  },
  {
   "cell_type": "markdown",
   "metadata": {},
   "source": [
    "### Read images into a Pandas dataframe:"
   ]
  },
  {
   "cell_type": "code",
   "execution_count": 8,
   "metadata": {},
   "outputs": [
    {
     "name": "stdout",
     "output_type": "stream",
     "text": [
      "Image reading in progress...\n",
      "Image reading in completed successfully...\n"
     ]
    }
   ],
   "source": [
    "def read_files(path):\n",
    "    list_augmented = [filename for filename in os.listdir(path) if filename.endswith('jpg')]\n",
    "    return list_augmented\n",
    "\n",
    "\n",
    "def read_folders(path):\n",
    "    list_folders = [foldername for foldername in os.listdir(path) if os.path.isdir(f'{path}/{foldername}')]\n",
    "    return list_folders\n",
    "\n",
    "\n",
    "def read_augmented_images(path):\n",
    "    df_labels = pd.DataFrame(columns=['id', 'breed'])    \n",
    "    folder_labels = read_folders(path)\n",
    "\n",
    "    for folder in folder_labels:    \n",
    "        folder_imgs = read_files(f'{path}{folder}')\n",
    "        for file in folder_imgs:            \n",
    "            file = file.replace('.jpg', '')\n",
    "            df_labels = df_labels.append(pd.DataFrame([[file, folder]], columns=['id', 'breed']), ignore_index=True)\n",
    "            \n",
    "    return df_labels\n",
    "\n",
    "\n",
    "def read_test_images(path):\n",
    "    df_labels = pd.DataFrame(columns=['id', 'breed'])   \n",
    "    folder_imgs = read_files(path)\n",
    "    \n",
    "    for img in folder_imgs:        \n",
    "        id = img.replace('.jpg', '')\n",
    "        breed = labels[labels.id == id].breed.item()\n",
    "        df_labels = df_labels.append(pd.DataFrame([[id, breed]], columns=['id', 'breed']), ignore_index=True)\n",
    "        \n",
    "    return df_labels\n",
    "    \n",
    "\n",
    "print('Image reading in progress...')\n",
    "\n",
    "labels_train = read_augmented_images('train/')\n",
    "labels_validate = read_augmented_images('validate/')\n",
    "labels_test = read_test_images('test/test/')\n",
    "\n",
    "print('Image reading in completed successfully...')"
   ]
  },
  {
   "cell_type": "markdown",
   "metadata": {},
   "source": [
    "### Display head and tail of labels dataframe:"
   ]
  },
  {
   "cell_type": "code",
   "execution_count": 9,
   "metadata": {},
   "outputs": [
    {
     "name": "stdout",
     "output_type": "stream",
     "text": [
      "TRAIN SET:\n"
     ]
    },
    {
     "data": {
      "text/html": [
       "<div>\n",
       "<style scoped>\n",
       "    .dataframe tbody tr th:only-of-type {\n",
       "        vertical-align: middle;\n",
       "    }\n",
       "\n",
       "    .dataframe tbody tr th {\n",
       "        vertical-align: top;\n",
       "    }\n",
       "\n",
       "    .dataframe thead th {\n",
       "        text-align: right;\n",
       "    }\n",
       "</style>\n",
       "<table border=\"1\" class=\"dataframe\">\n",
       "  <thead>\n",
       "    <tr style=\"text-align: right;\">\n",
       "      <th></th>\n",
       "      <th>id</th>\n",
       "      <th>breed</th>\n",
       "    </tr>\n",
       "  </thead>\n",
       "  <tbody>\n",
       "    <tr>\n",
       "      <th>0</th>\n",
       "      <td>01268f0007876a692907bda89468184c</td>\n",
       "      <td>affenpinscher</td>\n",
       "    </tr>\n",
       "    <tr>\n",
       "      <th>1</th>\n",
       "      <td>01268f0007876a692907bda89468184c_0_1136</td>\n",
       "      <td>affenpinscher</td>\n",
       "    </tr>\n",
       "    <tr>\n",
       "      <th>2</th>\n",
       "      <td>01268f0007876a692907bda89468184c_0_1980</td>\n",
       "      <td>affenpinscher</td>\n",
       "    </tr>\n",
       "    <tr>\n",
       "      <th>3</th>\n",
       "      <td>01268f0007876a692907bda89468184c_0_2291</td>\n",
       "      <td>affenpinscher</td>\n",
       "    </tr>\n",
       "    <tr>\n",
       "      <th>4</th>\n",
       "      <td>01268f0007876a692907bda89468184c_0_665</td>\n",
       "      <td>affenpinscher</td>\n",
       "    </tr>\n",
       "    <tr>\n",
       "      <th>40878</th>\n",
       "      <td>f7627680c56c5d3acc4f7eae93124459</td>\n",
       "      <td>yorkshire_terrier</td>\n",
       "    </tr>\n",
       "    <tr>\n",
       "      <th>40879</th>\n",
       "      <td>f7627680c56c5d3acc4f7eae93124459_0_1692</td>\n",
       "      <td>yorkshire_terrier</td>\n",
       "    </tr>\n",
       "    <tr>\n",
       "      <th>40880</th>\n",
       "      <td>f7627680c56c5d3acc4f7eae93124459_0_5875</td>\n",
       "      <td>yorkshire_terrier</td>\n",
       "    </tr>\n",
       "    <tr>\n",
       "      <th>40881</th>\n",
       "      <td>f7627680c56c5d3acc4f7eae93124459_0_7371</td>\n",
       "      <td>yorkshire_terrier</td>\n",
       "    </tr>\n",
       "    <tr>\n",
       "      <th>40882</th>\n",
       "      <td>f7627680c56c5d3acc4f7eae93124459_0_9438</td>\n",
       "      <td>yorkshire_terrier</td>\n",
       "    </tr>\n",
       "  </tbody>\n",
       "</table>\n",
       "</div>"
      ],
      "text/plain": [
       "                                            id              breed\n",
       "0             01268f0007876a692907bda89468184c      affenpinscher\n",
       "1      01268f0007876a692907bda89468184c_0_1136      affenpinscher\n",
       "2      01268f0007876a692907bda89468184c_0_1980      affenpinscher\n",
       "3      01268f0007876a692907bda89468184c_0_2291      affenpinscher\n",
       "4       01268f0007876a692907bda89468184c_0_665      affenpinscher\n",
       "40878         f7627680c56c5d3acc4f7eae93124459  yorkshire_terrier\n",
       "40879  f7627680c56c5d3acc4f7eae93124459_0_1692  yorkshire_terrier\n",
       "40880  f7627680c56c5d3acc4f7eae93124459_0_5875  yorkshire_terrier\n",
       "40881  f7627680c56c5d3acc4f7eae93124459_0_7371  yorkshire_terrier\n",
       "40882  f7627680c56c5d3acc4f7eae93124459_0_9438  yorkshire_terrier"
      ]
     },
     "metadata": {},
     "output_type": "display_data"
    },
    {
     "name": "stdout",
     "output_type": "stream",
     "text": [
      "VALIDATE SET:\n"
     ]
    },
    {
     "data": {
      "text/html": [
       "<div>\n",
       "<style scoped>\n",
       "    .dataframe tbody tr th:only-of-type {\n",
       "        vertical-align: middle;\n",
       "    }\n",
       "\n",
       "    .dataframe tbody tr th {\n",
       "        vertical-align: top;\n",
       "    }\n",
       "\n",
       "    .dataframe thead th {\n",
       "        text-align: right;\n",
       "    }\n",
       "</style>\n",
       "<table border=\"1\" class=\"dataframe\">\n",
       "  <thead>\n",
       "    <tr style=\"text-align: right;\">\n",
       "      <th></th>\n",
       "      <th>id</th>\n",
       "      <th>breed</th>\n",
       "    </tr>\n",
       "  </thead>\n",
       "  <tbody>\n",
       "    <tr>\n",
       "      <th>0</th>\n",
       "      <td>20430175869defec1722d3432f42ebd7</td>\n",
       "      <td>affenpinscher</td>\n",
       "    </tr>\n",
       "    <tr>\n",
       "      <th>1</th>\n",
       "      <td>4cb48a54b94e4c7dcf9798f7cc7f5a92</td>\n",
       "      <td>affenpinscher</td>\n",
       "    </tr>\n",
       "    <tr>\n",
       "      <th>2</th>\n",
       "      <td>4d3bb108c92bf340610878d2f257fb30</td>\n",
       "      <td>affenpinscher</td>\n",
       "    </tr>\n",
       "    <tr>\n",
       "      <th>3</th>\n",
       "      <td>5176b5065238615f290f522ff376bb0b</td>\n",
       "      <td>affenpinscher</td>\n",
       "    </tr>\n",
       "    <tr>\n",
       "      <th>4</th>\n",
       "      <td>6c2a583219893f8c5adc7f604f802a54</td>\n",
       "      <td>affenpinscher</td>\n",
       "    </tr>\n",
       "    <tr>\n",
       "      <th>1017</th>\n",
       "      <td>b7a84afcc388d91869ec8bf85cf0449e</td>\n",
       "      <td>yorkshire_terrier</td>\n",
       "    </tr>\n",
       "    <tr>\n",
       "      <th>1018</th>\n",
       "      <td>b9b54494a2ed02ea74f0ef26a8cca728</td>\n",
       "      <td>yorkshire_terrier</td>\n",
       "    </tr>\n",
       "    <tr>\n",
       "      <th>1019</th>\n",
       "      <td>be9a79b75ab68064bbcecbd4eb4ef959</td>\n",
       "      <td>yorkshire_terrier</td>\n",
       "    </tr>\n",
       "    <tr>\n",
       "      <th>1020</th>\n",
       "      <td>d5c742090f2d1bd616784d96a59bf941</td>\n",
       "      <td>yorkshire_terrier</td>\n",
       "    </tr>\n",
       "    <tr>\n",
       "      <th>1021</th>\n",
       "      <td>f28c40401e84e41f5aa4c60fea02a575</td>\n",
       "      <td>yorkshire_terrier</td>\n",
       "    </tr>\n",
       "  </tbody>\n",
       "</table>\n",
       "</div>"
      ],
      "text/plain": [
       "                                    id              breed\n",
       "0     20430175869defec1722d3432f42ebd7      affenpinscher\n",
       "1     4cb48a54b94e4c7dcf9798f7cc7f5a92      affenpinscher\n",
       "2     4d3bb108c92bf340610878d2f257fb30      affenpinscher\n",
       "3     5176b5065238615f290f522ff376bb0b      affenpinscher\n",
       "4     6c2a583219893f8c5adc7f604f802a54      affenpinscher\n",
       "1017  b7a84afcc388d91869ec8bf85cf0449e  yorkshire_terrier\n",
       "1018  b9b54494a2ed02ea74f0ef26a8cca728  yorkshire_terrier\n",
       "1019  be9a79b75ab68064bbcecbd4eb4ef959  yorkshire_terrier\n",
       "1020  d5c742090f2d1bd616784d96a59bf941  yorkshire_terrier\n",
       "1021  f28c40401e84e41f5aa4c60fea02a575  yorkshire_terrier"
      ]
     },
     "metadata": {},
     "output_type": "display_data"
    },
    {
     "name": "stdout",
     "output_type": "stream",
     "text": [
      "TEST SET:\n"
     ]
    },
    {
     "data": {
      "text/html": [
       "<div>\n",
       "<style scoped>\n",
       "    .dataframe tbody tr th:only-of-type {\n",
       "        vertical-align: middle;\n",
       "    }\n",
       "\n",
       "    .dataframe tbody tr th {\n",
       "        vertical-align: top;\n",
       "    }\n",
       "\n",
       "    .dataframe thead th {\n",
       "        text-align: right;\n",
       "    }\n",
       "</style>\n",
       "<table border=\"1\" class=\"dataframe\">\n",
       "  <thead>\n",
       "    <tr style=\"text-align: right;\">\n",
       "      <th></th>\n",
       "      <th>id</th>\n",
       "      <th>breed</th>\n",
       "    </tr>\n",
       "  </thead>\n",
       "  <tbody>\n",
       "    <tr>\n",
       "      <th>0</th>\n",
       "      <td>000bec180eb18c7604dcecc8fe0dba07</td>\n",
       "      <td>boston_bull</td>\n",
       "    </tr>\n",
       "    <tr>\n",
       "      <th>1</th>\n",
       "      <td>0021f9ceb3235effd7fcde7f7538ed62</td>\n",
       "      <td>golden_retriever</td>\n",
       "    </tr>\n",
       "    <tr>\n",
       "      <th>2</th>\n",
       "      <td>008b1271ed1addaccf93783b39deab45</td>\n",
       "      <td>doberman</td>\n",
       "    </tr>\n",
       "    <tr>\n",
       "      <th>3</th>\n",
       "      <td>00ca18751837cd6a22813f8e221f7819</td>\n",
       "      <td>affenpinscher</td>\n",
       "    </tr>\n",
       "    <tr>\n",
       "      <th>4</th>\n",
       "      <td>0161847d5bfae154af084993fa26a1a7</td>\n",
       "      <td>giant_schnauzer</td>\n",
       "    </tr>\n",
       "    <tr>\n",
       "      <th>1017</th>\n",
       "      <td>fea60fdd28de5834520134d6dc77a9a2</td>\n",
       "      <td>black-and-tan_coonhound</td>\n",
       "    </tr>\n",
       "    <tr>\n",
       "      <th>1018</th>\n",
       "      <td>fee1696ae6725863f84b0da2c05ad892</td>\n",
       "      <td>bull_mastiff</td>\n",
       "    </tr>\n",
       "    <tr>\n",
       "      <th>1019</th>\n",
       "      <td>fef9c3ab585ad3f778c549fda42c1856</td>\n",
       "      <td>miniature_schnauzer</td>\n",
       "    </tr>\n",
       "    <tr>\n",
       "      <th>1020</th>\n",
       "      <td>ffa6a8d29ce57eb760d0f182abada4bf</td>\n",
       "      <td>english_foxhound</td>\n",
       "    </tr>\n",
       "    <tr>\n",
       "      <th>1021</th>\n",
       "      <td>ffbbf7536ba86dcef3f360bda41181b4</td>\n",
       "      <td>weimaraner</td>\n",
       "    </tr>\n",
       "  </tbody>\n",
       "</table>\n",
       "</div>"
      ],
      "text/plain": [
       "                                    id                    breed\n",
       "0     000bec180eb18c7604dcecc8fe0dba07              boston_bull\n",
       "1     0021f9ceb3235effd7fcde7f7538ed62         golden_retriever\n",
       "2     008b1271ed1addaccf93783b39deab45                 doberman\n",
       "3     00ca18751837cd6a22813f8e221f7819            affenpinscher\n",
       "4     0161847d5bfae154af084993fa26a1a7          giant_schnauzer\n",
       "1017  fea60fdd28de5834520134d6dc77a9a2  black-and-tan_coonhound\n",
       "1018  fee1696ae6725863f84b0da2c05ad892             bull_mastiff\n",
       "1019  fef9c3ab585ad3f778c549fda42c1856      miniature_schnauzer\n",
       "1020  ffa6a8d29ce57eb760d0f182abada4bf         english_foxhound\n",
       "1021  ffbbf7536ba86dcef3f360bda41181b4               weimaraner"
      ]
     },
     "metadata": {},
     "output_type": "display_data"
    }
   ],
   "source": [
    "print('TRAIN SET:')\n",
    "display(labels_train.iloc[np.r_[0:5, -5:0]])\n",
    "\n",
    "print('VALIDATE SET:')\n",
    "display(labels_validate.iloc[np.r_[0:5, -5:0]])\n",
    "\n",
    "print('TEST SET:')\n",
    "display(labels_test.iloc[np.r_[0:5, -5:0]])"
   ]
  },
  {
   "cell_type": "markdown",
   "metadata": {},
   "source": [
    "# STEP 3: PREPARE AND DEPLOY MODEL"
   ]
  },
  {
   "cell_type": "markdown",
   "metadata": {},
   "source": [
    "##### We are creating batches of 50 images for training and validation. The batch size for testing is just 1. \n",
    "##### We are not running data augmentation at this step, since it has already been run before."
   ]
  },
  {
   "cell_type": "code",
   "execution_count": 10,
   "metadata": {},
   "outputs": [
    {
     "name": "stdout",
     "output_type": "stream",
     "text": [
      "Found 40883 images belonging to 120 classes.\n",
      "Found 1022 images belonging to 120 classes.\n",
      "Found 1022 images belonging to 1 classes.\n"
     ]
    }
   ],
   "source": [
    "# normalize image pixel data\n",
    "train_set = im.ImageDataGenerator(rescale=1/255)\n",
    "validate_set = im.ImageDataGenerator(rescale=1/255)\n",
    "test_set = im.ImageDataGenerator(rescale=1/255)\n",
    "\n",
    "train_gen = train_set.flow_from_directory('train', batch_size=100, target_size=(w,h), class_mode='categorical')\n",
    "validate_gen = train_set.flow_from_directory('validate', batch_size=50, target_size=(w,h), class_mode='categorical')\n",
    "test_gen = train_set.flow_from_directory('test', batch_size=1, target_size=(w,h), class_mode=None, shuffle=False)"
   ]
  },
  {
   "cell_type": "markdown",
   "metadata": {},
   "source": [
    "### CNN Model 1:\n",
    "##### This model is the best attempt using a custom architechture that does not involve transfer learning. This is the best model architecture I was able to create from scratch, after trying several combinations over the course of a couple of weeks.\n",
    "\n",
    "##### We pass the image size (width and height) as parameters to the model."
   ]
  },
  {
   "cell_type": "code",
   "execution_count": 11,
   "metadata": {},
   "outputs": [],
   "source": [
    "def dl_model_1(w, h):\n",
    "    model = Sequential()\n",
    "   \n",
    "    model.add(Conv2D(64, (3, 3), padding='same', activation='relu', input_shape=(w, h, 3)))\n",
    "    model.add(BatchNormalization())            \n",
    "    model.add(MaxPooling2D(2,2))    \n",
    "    \n",
    "    model.add(Dropout(0.2))\n",
    "    \n",
    "    model.add(Conv2D(128, (7, 7), padding='same', activation='relu'))    \n",
    "    model.add(BatchNormalization())\n",
    "    model.add(MaxPooling2D(2,2))    \n",
    "\n",
    "    model.add(Dropout(0.2))\n",
    "    \n",
    "    model.add(Conv2D(256, (5, 5), padding='same', activation='relu'))    \n",
    "    model.add(BatchNormalization())\n",
    "    model.add(MaxPooling2D(2,2))    \n",
    "\n",
    "    model.add(Dropout(0.5))\n",
    "    \n",
    "    model.add(Conv2D(256, (7, 7), padding='same', activation='relu'))    \n",
    "    model.add(BatchNormalization())\n",
    "    model.add(MaxPooling2D(2,2))  \n",
    "\n",
    "    model.add(Dropout(0.5))\n",
    "    \n",
    "    model.add(Conv2D(256, (5, 5), padding='same', activation='relu'))    \n",
    "    model.add(BatchNormalization())\n",
    "    model.add(MaxPooling2D(2,2))          \n",
    "    \n",
    "    model.add(Flatten())\n",
    "    model.add(Dropout(0.5))\n",
    "            \n",
    "    model.add(Dense(128, activation='relu'))    \n",
    "    model.add(BatchNormalization())    \n",
    "    \n",
    "    model.add(Dense(120, activation='softmax'))    \n",
    "              \n",
    "    model.compile(loss='categorical_crossentropy', optimizer=Adam(lr=0.001), metrics=['accuracy'])    \n",
    "    return model\n",
    "\n",
    "model_1 = dl_model_1(w, h)"
   ]
  },
  {
   "cell_type": "markdown",
   "metadata": {},
   "source": [
    "### Model # 1 summary:"
   ]
  },
  {
   "cell_type": "code",
   "execution_count": 12,
   "metadata": {},
   "outputs": [
    {
     "name": "stdout",
     "output_type": "stream",
     "text": [
      "_________________________________________________________________\n",
      "Layer (type)                 Output Shape              Param #   \n",
      "=================================================================\n",
      "conv2d_1 (Conv2D)            (None, 96, 96, 64)        1792      \n",
      "_________________________________________________________________\n",
      "batch_normalization_1 (Batch (None, 96, 96, 64)        256       \n",
      "_________________________________________________________________\n",
      "max_pooling2d_1 (MaxPooling2 (None, 48, 48, 64)        0         \n",
      "_________________________________________________________________\n",
      "dropout_1 (Dropout)          (None, 48, 48, 64)        0         \n",
      "_________________________________________________________________\n",
      "conv2d_2 (Conv2D)            (None, 48, 48, 128)       401536    \n",
      "_________________________________________________________________\n",
      "batch_normalization_2 (Batch (None, 48, 48, 128)       512       \n",
      "_________________________________________________________________\n",
      "max_pooling2d_2 (MaxPooling2 (None, 24, 24, 128)       0         \n",
      "_________________________________________________________________\n",
      "dropout_2 (Dropout)          (None, 24, 24, 128)       0         \n",
      "_________________________________________________________________\n",
      "conv2d_3 (Conv2D)            (None, 24, 24, 256)       819456    \n",
      "_________________________________________________________________\n",
      "batch_normalization_3 (Batch (None, 24, 24, 256)       1024      \n",
      "_________________________________________________________________\n",
      "max_pooling2d_3 (MaxPooling2 (None, 12, 12, 256)       0         \n",
      "_________________________________________________________________\n",
      "dropout_3 (Dropout)          (None, 12, 12, 256)       0         \n",
      "_________________________________________________________________\n",
      "conv2d_4 (Conv2D)            (None, 12, 12, 256)       3211520   \n",
      "_________________________________________________________________\n",
      "batch_normalization_4 (Batch (None, 12, 12, 256)       1024      \n",
      "_________________________________________________________________\n",
      "max_pooling2d_4 (MaxPooling2 (None, 6, 6, 256)         0         \n",
      "_________________________________________________________________\n",
      "dropout_4 (Dropout)          (None, 6, 6, 256)         0         \n",
      "_________________________________________________________________\n",
      "conv2d_5 (Conv2D)            (None, 6, 6, 256)         1638656   \n",
      "_________________________________________________________________\n",
      "batch_normalization_5 (Batch (None, 6, 6, 256)         1024      \n",
      "_________________________________________________________________\n",
      "max_pooling2d_5 (MaxPooling2 (None, 3, 3, 256)         0         \n",
      "_________________________________________________________________\n",
      "flatten_1 (Flatten)          (None, 2304)              0         \n",
      "_________________________________________________________________\n",
      "dropout_5 (Dropout)          (None, 2304)              0         \n",
      "_________________________________________________________________\n",
      "dense_1 (Dense)              (None, 128)               295040    \n",
      "_________________________________________________________________\n",
      "batch_normalization_6 (Batch (None, 128)               512       \n",
      "_________________________________________________________________\n",
      "dense_2 (Dense)              (None, 120)               15480     \n",
      "=================================================================\n",
      "Total params: 6,387,832\n",
      "Trainable params: 6,385,656\n",
      "Non-trainable params: 2,176\n",
      "_________________________________________________________________\n"
     ]
    }
   ],
   "source": [
    "model_1.summary()"
   ]
  },
  {
   "cell_type": "markdown",
   "metadata": {},
   "source": [
    "### Fit the model using GPU:"
   ]
  },
  {
   "cell_type": "code",
   "execution_count": 13,
   "metadata": {},
   "outputs": [
    {
     "name": "stdout",
     "output_type": "stream",
     "text": [
      "Epoch 1/5\n",
      "1500/1500 [==============================] - 173s 116ms/step - loss: 3.7730 - acc: 0.1353 - val_loss: 3.6610 - val_acc: 0.1595\n",
      "Epoch 2/5\n",
      "1500/1500 [==============================] - 169s 113ms/step - loss: 2.3260 - acc: 0.3927 - val_loss: 3.7751 - val_acc: 0.1967\n",
      "Epoch 3/5\n",
      "1500/1500 [==============================] - 169s 113ms/step - loss: 1.4233 - acc: 0.5967 - val_loss: 4.0590 - val_acc: 0.2221\n",
      "Epoch 4/5\n",
      "1500/1500 [==============================] - 169s 113ms/step - loss: 0.9349 - acc: 0.7214 - val_loss: 4.5084 - val_acc: 0.2104\n",
      "Epoch 5/5\n",
      "1500/1500 [==============================] - 169s 113ms/step - loss: 0.6916 - acc: 0.7882 - val_loss: 4.6960 - val_acc: 0.2182\n",
      "Time elapsed: 851.4162013530731\n"
     ]
    }
   ],
   "source": [
    "time0 = time()\n",
    "\n",
    "# make sure we use our GPU\n",
    "with tf.device('/gpu:0'):    \n",
    "    logs_1 = model_1.fit_generator(train_gen, steps_per_epoch=1500, epochs=5, validation_data=validate_gen, validation_steps=50)\n",
    "    \n",
    "print('Time elapsed:', time() - time0)    \n",
    "Beep(500,500)  # beep when done    "
   ]
  },
  {
   "cell_type": "markdown",
   "metadata": {},
   "source": [
    "### Plot model # 1 accuracy and loss:"
   ]
  },
  {
   "cell_type": "code",
   "execution_count": 14,
   "metadata": {},
   "outputs": [
    {
     "data": {
      "image/png": "[encoded data removed]",
      "text/plain": [
       "<Figure size 432x288 with 1 Axes>"
      ]
     },
     "metadata": {},
     "output_type": "display_data"
    },
    {
     "data": {
      "image/png": "[encoded data removed]",
      "text/plain": [
       "<Figure size 432x288 with 1 Axes>"
      ]
     },
     "metadata": {},
     "output_type": "display_data"
    }
   ],
   "source": [
    "acc = logs_1.history['acc']\n",
    "val_acc = logs_1.history['val_acc']\n",
    "loss = logs_1.history['loss']\n",
    "val_loss = logs_1.history['val_loss']\n",
    "epochs = range(1, len(acc) + 1)\n",
    "plt.plot(epochs, acc, 'bo', label='Training acc')\n",
    "plt.plot(epochs, val_acc, 'b', label='Validation acc')\n",
    "plt.title('Training and validation accuracy')\n",
    "plt.legend()\n",
    "plt.figure()\n",
    "plt.plot(epochs, loss, 'bo', label='Training loss')\n",
    "plt.plot(epochs, val_loss, 'b', label='Validation loss')\n",
    "plt.title('Training and validation loss')\n",
    "plt.legend()\n",
    "plt.show()"
   ]
  },
  {
   "cell_type": "markdown",
   "metadata": {},
   "source": [
    "### Model # 1 CNN error:"
   ]
  },
  {
   "cell_type": "code",
   "execution_count": 15,
   "metadata": {},
   "outputs": [
    {
     "name": "stdout",
     "output_type": "stream",
     "text": [
      "21/21 [==============================] - 1s 28ms/step\n",
      "CNN Error: 78.28%\n"
     ]
    }
   ],
   "source": [
    "scores = model_1.evaluate_generator(generator=validate_gen, verbose=1)\n",
    "print(\"CNN Error: %.2f%%\" % (100-scores[1]*100))"
   ]
  },
  {
   "cell_type": "markdown",
   "metadata": {},
   "source": [
    "### Predict test images:\n",
    "##### # Count predictions where the predicted breed appears in the breeds with the highest probabilities up to the xth term."
   ]
  },
  {
   "cell_type": "code",
   "execution_count": 16,
   "metadata": {},
   "outputs": [
    {
     "name": "stdout",
     "output_type": "stream",
     "text": [
      "1022/1022 [==============================] - 4s 4ms/step\n",
      "Good predictions (most likely breed): 226 out of 1022 images ( 22.11 % )\n",
      "Good predictions (within 2 most likely breeds): 332 out of 1022 images ( 32.49 % )\n",
      "Good predictions (within 3 most likely breeds): 396 out of 1022 images ( 38.75 % )\n",
      "Good predictions (within 4 most likely breeds): 452 out of 1022 images ( 44.23 % )\n",
      "Good predictions (within 5 most likely breeds): 500 out of 1022 images ( 48.92 % )\n"
     ]
    }
   ],
   "source": [
    "test_gen.reset()\n",
    "predict = model_1.predict_generator(generator=test_gen, verbose=1)\n",
    "\n",
    "# read breed labels from training\n",
    "breeds = train_gen.class_indices\n",
    "breeds = dict((val, key) for key, val in breeds.items())\n",
    "\n",
    "\n",
    "def getGoodPredictions(x):\n",
    "    test_labels_good = labels[labels.id.isin(id_list_test)]\n",
    "    test_labels_good = test_labels_good.reset_index(drop=True)\n",
    "    test_labels_predicted = []\n",
    "    n = 0\n",
    "    for i in range(len(predict)):\n",
    "        key = np.argpartition(predict[i], -x)[-x:]   \n",
    "        breed_predicted = [breeds[val] for val in key]\n",
    "\n",
    "        if test_labels_good['breed'][i] in breed_predicted:\n",
    "            n += 1\n",
    "            #print(test_labels_good['id'][i], test_labels_good['breed'][i], breed_predicted)\n",
    "            \n",
    "    total_imgs = len(id_list_test)\n",
    "    percent = round(n / total_imgs * 100, 2)\n",
    "    if x == 1:\n",
    "        outcome = print(\"Good predictions (most likely breed):\", n, \"out of\", total_imgs, \"images (\", percent, \"% )\")\n",
    "    else:\n",
    "        outcome = print(\"Good predictions (within\", x, \"most likely breeds):\", n, \"out of\", total_imgs, \"images (\", percent, \"% )\")\n",
    "    return outcome\n",
    "\n",
    "\n",
    "# get predictions where the predicted label exists through the 5th most likely breed\n",
    "for x in range(1, 6):\n",
    "    getGoodPredictions(x)"
   ]
  },
  {
   "cell_type": "markdown",
   "metadata": {},
   "source": [
    "### CNN Model 2:\n",
    "##### This model is the best attempt using a pre-built architechture (VGG-16) that does not involve transfer learning. This model architecture is commonly used for training on large sets of images. Here, we are using it as a benchmark for comparison against the model I made. The results indicate that while one model may work excellently for a very large set of images, as VGG-16, it may underperform a customized model for a smaller set.\n",
    "##### We pass the image size (width and height) as parameters to the model."
   ]
  },
  {
   "cell_type": "code",
   "execution_count": 23,
   "metadata": {},
   "outputs": [],
   "source": [
    "def dl_model_2(w, h):\n",
    "    model = Sequential()\n",
    "    \n",
    "    model.add(ZeroPadding2D((1,1),input_shape=(w, h, 3)))\n",
    "    \n",
    "    model.add(Conv2D(64, (3, 3), activation='relu'))\n",
    "    model.add(ZeroPadding2D((1,1)))\n",
    "    model.add(Conv2D(64, (3, 3), activation='relu'))\n",
    "    model.add(MaxPooling2D((2,2), strides=(2,2)))\n",
    "\n",
    "    model.add(ZeroPadding2D((1,1)))\n",
    "    model.add(Conv2D(128, (3, 3), activation='relu'))\n",
    "    model.add(ZeroPadding2D((1,1)))\n",
    "    model.add(Conv2D(128, (3, 3), activation='relu'))\n",
    "    model.add(MaxPooling2D((2,2), strides=(2,2)))\n",
    "\n",
    "    model.add(ZeroPadding2D((1,1)))\n",
    "    model.add(Conv2D(256, (3, 3), activation='relu'))\n",
    "    model.add(ZeroPadding2D((1,1)))\n",
    "    model.add(Conv2D(256, (3, 3), activation='relu'))\n",
    "    model.add(ZeroPadding2D((1,1)))\n",
    "    model.add(Conv2D(256, (3, 3), activation='relu'))\n",
    "    model.add(MaxPooling2D((2,2), strides=(2,2)))\n",
    "\n",
    "    model.add(ZeroPadding2D((1,1)))\n",
    "    model.add(Conv2D(512, (3, 3), activation='relu'))\n",
    "    model.add(ZeroPadding2D((1,1)))\n",
    "    model.add(Conv2D(512, (3, 3), activation='relu'))\n",
    "    model.add(ZeroPadding2D((1,1)))\n",
    "    model.add(Conv2D(512, (3, 3), activation='relu'))\n",
    "    model.add(MaxPooling2D((2,2), strides=(2,2)))\n",
    "\n",
    "    model.add(ZeroPadding2D((1,1)))\n",
    "    model.add(Conv2D(512, (3, 3), activation='relu'))\n",
    "    model.add(ZeroPadding2D((1,1)))\n",
    "    model.add(Conv2D(512, (3, 3), activation='relu'))\n",
    "    model.add(ZeroPadding2D((1,1)))\n",
    "    model.add(Conv2D(512, (3, 3), activation='relu'))\n",
    "    model.add(MaxPooling2D((2,2), strides=(2,2)))\n",
    "\n",
    "    model.add(Flatten())\n",
    "    model.add(Dense(4096, activation='relu'))\n",
    "    model.add(Dropout(0.5))\n",
    "    model.add(Dense(4096, activation='relu'))\n",
    "    model.add(Dropout(0.5))\n",
    "    \n",
    "    model.add(Dense(120, activation='softmax'))    \n",
    "              \n",
    "    model.compile(loss='categorical_crossentropy', optimizer=Adam(lr=0.0001), metrics=['accuracy'])    \n",
    "    return model\n",
    "\n",
    "model_2 = dl_model_2(w, h)"
   ]
  },
  {
   "cell_type": "markdown",
   "metadata": {},
   "source": [
    "### Model # 2 summary:"
   ]
  },
  {
   "cell_type": "code",
   "execution_count": 24,
   "metadata": {},
   "outputs": [
    {
     "name": "stdout",
     "output_type": "stream",
     "text": [
      "_________________________________________________________________\n",
      "Layer (type)                 Output Shape              Param #   \n",
      "=================================================================\n",
      "zero_padding2d_27 (ZeroPaddi (None, 98, 98, 3)         0         \n",
      "_________________________________________________________________\n",
      "conv2d_32 (Conv2D)           (None, 96, 96, 64)        1792      \n",
      "_________________________________________________________________\n",
      "zero_padding2d_28 (ZeroPaddi (None, 98, 98, 64)        0         \n",
      "_________________________________________________________________\n",
      "conv2d_33 (Conv2D)           (None, 96, 96, 64)        36928     \n",
      "_________________________________________________________________\n",
      "max_pooling2d_16 (MaxPooling (None, 48, 48, 64)        0         \n",
      "_________________________________________________________________\n",
      "zero_padding2d_29 (ZeroPaddi (None, 50, 50, 64)        0         \n",
      "_________________________________________________________________\n",
      "conv2d_34 (Conv2D)           (None, 48, 48, 128)       73856     \n",
      "_________________________________________________________________\n",
      "zero_padding2d_30 (ZeroPaddi (None, 50, 50, 128)       0         \n",
      "_________________________________________________________________\n",
      "conv2d_35 (Conv2D)           (None, 48, 48, 128)       147584    \n",
      "_________________________________________________________________\n",
      "max_pooling2d_17 (MaxPooling (None, 24, 24, 128)       0         \n",
      "_________________________________________________________________\n",
      "zero_padding2d_31 (ZeroPaddi (None, 26, 26, 128)       0         \n",
      "_________________________________________________________________\n",
      "conv2d_36 (Conv2D)           (None, 24, 24, 256)       295168    \n",
      "_________________________________________________________________\n",
      "zero_padding2d_32 (ZeroPaddi (None, 26, 26, 256)       0         \n",
      "_________________________________________________________________\n",
      "conv2d_37 (Conv2D)           (None, 24, 24, 256)       590080    \n",
      "_________________________________________________________________\n",
      "zero_padding2d_33 (ZeroPaddi (None, 26, 26, 256)       0         \n",
      "_________________________________________________________________\n",
      "conv2d_38 (Conv2D)           (None, 24, 24, 256)       590080    \n",
      "_________________________________________________________________\n",
      "max_pooling2d_18 (MaxPooling (None, 12, 12, 256)       0         \n",
      "_________________________________________________________________\n",
      "zero_padding2d_34 (ZeroPaddi (None, 14, 14, 256)       0         \n",
      "_________________________________________________________________\n",
      "conv2d_39 (Conv2D)           (None, 12, 12, 512)       1180160   \n",
      "_________________________________________________________________\n",
      "zero_padding2d_35 (ZeroPaddi (None, 14, 14, 512)       0         \n",
      "_________________________________________________________________\n",
      "conv2d_40 (Conv2D)           (None, 12, 12, 512)       2359808   \n",
      "_________________________________________________________________\n",
      "zero_padding2d_36 (ZeroPaddi (None, 14, 14, 512)       0         \n",
      "_________________________________________________________________\n",
      "conv2d_41 (Conv2D)           (None, 12, 12, 512)       2359808   \n",
      "_________________________________________________________________\n",
      "max_pooling2d_19 (MaxPooling (None, 6, 6, 512)         0         \n",
      "_________________________________________________________________\n",
      "zero_padding2d_37 (ZeroPaddi (None, 8, 8, 512)         0         \n",
      "_________________________________________________________________\n",
      "conv2d_42 (Conv2D)           (None, 6, 6, 512)         2359808   \n",
      "_________________________________________________________________\n",
      "zero_padding2d_38 (ZeroPaddi (None, 8, 8, 512)         0         \n",
      "_________________________________________________________________\n",
      "conv2d_43 (Conv2D)           (None, 6, 6, 512)         2359808   \n",
      "_________________________________________________________________\n",
      "zero_padding2d_39 (ZeroPaddi (None, 8, 8, 512)         0         \n",
      "_________________________________________________________________\n",
      "conv2d_44 (Conv2D)           (None, 6, 6, 512)         2359808   \n",
      "_________________________________________________________________\n",
      "max_pooling2d_20 (MaxPooling (None, 3, 3, 512)         0         \n",
      "_________________________________________________________________\n",
      "flatten_4 (Flatten)          (None, 4608)              0         \n",
      "_________________________________________________________________\n",
      "dense_9 (Dense)              (None, 4096)              18878464  \n",
      "_________________________________________________________________\n",
      "dropout_10 (Dropout)         (None, 4096)              0         \n",
      "_________________________________________________________________\n",
      "dense_10 (Dense)             (None, 4096)              16781312  \n",
      "_________________________________________________________________\n",
      "dropout_11 (Dropout)         (None, 4096)              0         \n",
      "_________________________________________________________________\n",
      "dense_11 (Dense)             (None, 120)               491640    \n",
      "=================================================================\n",
      "Total params: 50,866,104\n",
      "Trainable params: 50,866,104\n",
      "Non-trainable params: 0\n",
      "_________________________________________________________________\n"
     ]
    }
   ],
   "source": [
    "model_2.summary()"
   ]
  },
  {
   "cell_type": "markdown",
   "metadata": {},
   "source": [
    "### Fit model 2:\n",
    "##### For comparison, we will use the same number of steps per epoch and validation steps, but since we are using a lower learning rate, the number of epochs is increased from 5 to 10."
   ]
  },
  {
   "cell_type": "code",
   "execution_count": 25,
   "metadata": {},
   "outputs": [
    {
     "name": "stdout",
     "output_type": "stream",
     "text": [
      "Epoch 1/10\n",
      "1500/1500 [==============================] - 291s 194ms/step - loss: 4.7783 - acc: 0.0125 - val_loss: 4.7847 - val_acc: 0.0088\n",
      "Epoch 2/10\n",
      "1500/1500 [==============================] - 286s 190ms/step - loss: 4.6898 - acc: 0.0176 - val_loss: 4.4091 - val_acc: 0.0372\n",
      "Epoch 3/10\n",
      "1500/1500 [==============================] - 285s 190ms/step - loss: 4.0575 - acc: 0.0725 - val_loss: 4.0711 - val_acc: 0.0802\n",
      "Epoch 4/10\n",
      "1500/1500 [==============================] - 286s 191ms/step - loss: 3.0764 - acc: 0.2319 - val_loss: 4.4781 - val_acc: 0.1047\n",
      "Epoch 5/10\n",
      "1500/1500 [==============================] - 284s 190ms/step - loss: 1.4272 - acc: 0.6073 - val_loss: 6.6708 - val_acc: 0.1086\n",
      "Epoch 6/10\n",
      "1500/1500 [==============================] - 285s 190ms/step - loss: 0.4824 - acc: 0.8562 - val_loss: 7.2854 - val_acc: 0.1076\n",
      "Epoch 7/10\n",
      "1500/1500 [==============================] - 284s 189ms/step - loss: 0.2441 - acc: 0.9253 - val_loss: 8.0348 - val_acc: 0.1096\n",
      "Epoch 8/10\n",
      "1500/1500 [==============================] - 284s 189ms/step - loss: 0.1777 - acc: 0.9460 - val_loss: 8.5655 - val_acc: 0.1067\n",
      "Epoch 9/10\n",
      "1500/1500 [==============================] - 284s 189ms/step - loss: 0.1444 - acc: 0.9558 - val_loss: 8.0235 - val_acc: 0.1057\n",
      "Epoch 10/10\n",
      "1500/1500 [==============================] - 285s 190ms/step - loss: 0.1207 - acc: 0.9635 - val_loss: 8.1607 - val_acc: 0.1037\n",
      "Time elapsed: 2854.2066366672516\n"
     ]
    }
   ],
   "source": [
    "time0 = time()\n",
    "\n",
    "# make sure we use our GPU\n",
    "with tf.device('/gpu:0'):    \n",
    "    logs_2 = model_2.fit_generator(train_gen, steps_per_epoch=1500, epochs=10, validation_data=validate_gen, validation_steps=50)\n",
    "    \n",
    "print('Time elapsed:', time() - time0)    \n",
    "Beep(500,500)  # beep when done    "
   ]
  },
  {
   "cell_type": "markdown",
   "metadata": {},
   "source": [
    "### Plot training and validation accuracy:\n",
    "##### We can see that model 2 is terribly overfit."
   ]
  },
  {
   "cell_type": "code",
   "execution_count": 26,
   "metadata": {},
   "outputs": [
    {
     "data": {
      "image/png": "[encoded data removed]",
      "text/plain": [
       "<Figure size 432x288 with 1 Axes>"
      ]
     },
     "metadata": {},
     "output_type": "display_data"
    },
    {
     "data": {
      "image/png": "[encoded data removed]",
      "text/plain": [
       "<Figure size 432x288 with 1 Axes>"
      ]
     },
     "metadata": {},
     "output_type": "display_data"
    }
   ],
   "source": [
    "acc = logs_2.history['acc']\n",
    "val_acc = logs_2.history['val_acc']\n",
    "loss = logs_2.history['loss']\n",
    "val_loss = logs_2.history['val_loss']\n",
    "epochs = range(1, len(acc) + 1)\n",
    "plt.plot(epochs, acc, 'bo', label='Training acc')\n",
    "plt.plot(epochs, val_acc, 'b', label='Validation acc')\n",
    "plt.title('Training and validation accuracy')\n",
    "plt.legend()\n",
    "plt.figure()\n",
    "plt.plot(epochs, loss, 'bo', label='Training loss')\n",
    "plt.plot(epochs, val_loss, 'b', label='Validation loss')\n",
    "plt.title('Training and validation loss')\n",
    "plt.legend()\n",
    "plt.show()"
   ]
  },
  {
   "cell_type": "markdown",
   "metadata": {},
   "source": [
    "### Model # 2 CNN error:"
   ]
  },
  {
   "cell_type": "code",
   "execution_count": 27,
   "metadata": {},
   "outputs": [
    {
     "name": "stdout",
     "output_type": "stream",
     "text": [
      "21/21 [==============================] - 1s 33ms/step\n",
      "CNN Error: 89.63%\n"
     ]
    }
   ],
   "source": [
    "scores = model_2.evaluate_generator(generator=validate_gen, verbose=1)\n",
    "print(\"CNN Error: %.2f%%\" % (100-scores[1]*100))"
   ]
  },
  {
   "cell_type": "markdown",
   "metadata": {},
   "source": [
    "### Predict test images:\n",
    "##### Count predictions where the predicted breed appears in the breeds with the highest probabilities up to the xth term."
   ]
  },
  {
   "cell_type": "code",
   "execution_count": 28,
   "metadata": {},
   "outputs": [
    {
     "name": "stdout",
     "output_type": "stream",
     "text": [
      "1022/1022 [==============================] - 5s 5ms/step\n",
      "Good predictions (most likely breed): 114 out of 1022 images ( 11.15 % )\n",
      "Good predictions (within 2 most likely breeds): 185 out of 1022 images ( 18.1 % )\n",
      "Good predictions (within 3 most likely breeds): 232 out of 1022 images ( 22.7 % )\n",
      "Good predictions (within 4 most likely breeds): 273 out of 1022 images ( 26.71 % )\n",
      "Good predictions (within 5 most likely breeds): 311 out of 1022 images ( 30.43 % )\n"
     ]
    }
   ],
   "source": [
    "test_gen.reset()\n",
    "predict = model_2.predict_generator(generator=test_gen, verbose=1)\n",
    "\n",
    "# read breed labels from training\n",
    "breeds = train_gen.class_indices\n",
    "breeds = dict((val, key) for key, val in breeds.items())\n",
    "\n",
    "\n",
    "def getGoodPredictions(x):\n",
    "    test_labels_good = labels[labels.id.isin(id_list_test)]\n",
    "    test_labels_good = test_labels_good.reset_index(drop=True)\n",
    "    test_labels_predicted = []\n",
    "    n = 0\n",
    "    for i in range(len(predict)):\n",
    "        key = np.argpartition(predict[i], -x)[-x:]   \n",
    "        breed_predicted = [breeds[val] for val in key]\n",
    "\n",
    "        if test_labels_good['breed'][i] in breed_predicted:\n",
    "            n += 1\n",
    "            #print(test_labels_good['id'][i], test_labels_good['breed'][i], breed_predicted)\n",
    "            \n",
    "    total_imgs = len(id_list_test)\n",
    "    percent = round(n / total_imgs * 100, 2)\n",
    "    if x == 1:\n",
    "        outcome = print(\"Good predictions (most likely breed):\", n, \"out of\", total_imgs, \"images (\", percent, \"% )\")\n",
    "    else:\n",
    "        outcome = print(\"Good predictions (within\", x, \"most likely breeds):\", n, \"out of\", total_imgs, \"images (\", percent, \"% )\")\n",
    "    return outcome\n",
    "\n",
    "\n",
    "# get predictions where the predicted label exists through the 5th most likely breed\n",
    "for x in range(1, 6):\n",
    "    getGoodPredictions(x)"
   ]
  },
  {
   "cell_type": "markdown",
   "metadata": {},
   "source": [
    "### Choose and save the best model:"
   ]
  },
  {
   "cell_type": "code",
   "execution_count": 29,
   "metadata": {},
   "outputs": [],
   "source": [
    "# save the best model to local disk\n",
    "best_model = model_1\n",
    "best_model.save('model_dog_breeds.h5')"
   ]
  },
  {
   "cell_type": "markdown",
   "metadata": {},
   "source": [
    "# STEP 4: PREDICT KAGGLE TEST SET"
   ]
  },
  {
   "cell_type": "markdown",
   "metadata": {},
   "source": [
    "### Load Kaggle submission images:"
   ]
  },
  {
   "cell_type": "code",
   "execution_count": 30,
   "metadata": {},
   "outputs": [
    {
     "name": "stdout",
     "output_type": "stream",
     "text": [
      "Found 10357 images belonging to 1 classes.\n"
     ]
    }
   ],
   "source": [
    "# normalize image pixel data\n",
    "kaggle_set = im.ImageDataGenerator(rescale=1/255)\n",
    "kaggle_gen = kaggle_set.flow_from_directory('kaggle', batch_size=1, target_size=(w,h), class_mode=None, shuffle=False)"
   ]
  },
  {
   "cell_type": "code",
   "execution_count": 31,
   "metadata": {},
   "outputs": [
    {
     "name": "stdout",
     "output_type": "stream",
     "text": [
      "10357/10357 [==============================] - 39s 4ms/step\n"
     ]
    }
   ],
   "source": [
    "predict = best_model.predict_generator(generator=kaggle_gen, verbose=1)"
   ]
  },
  {
   "cell_type": "markdown",
   "metadata": {},
   "source": [
    "### Generate prediction matrix:"
   ]
  },
  {
   "cell_type": "code",
   "execution_count": 33,
   "metadata": {},
   "outputs": [
    {
     "name": "stdout",
     "output_type": "stream",
     "text": [
      "Rows in prediction matrix: 10357\n"
     ]
    },
    {
     "data": {
      "text/html": [
       "<div>\n",
       "<style scoped>\n",
       "    .dataframe tbody tr th:only-of-type {\n",
       "        vertical-align: middle;\n",
       "    }\n",
       "\n",
       "    .dataframe tbody tr th {\n",
       "        vertical-align: top;\n",
       "    }\n",
       "\n",
       "    .dataframe thead th {\n",
       "        text-align: right;\n",
       "    }\n",
       "</style>\n",
       "<table border=\"1\" class=\"dataframe\">\n",
       "  <thead>\n",
       "    <tr style=\"text-align: right;\">\n",
       "      <th></th>\n",
       "      <th>id</th>\n",
       "      <th>affenpinscher</th>\n",
       "      <th>afghan_hound</th>\n",
       "      <th>african_hunting_dog</th>\n",
       "      <th>airedale</th>\n",
       "      <th>american_staffordshire_terrier</th>\n",
       "      <th>appenzeller</th>\n",
       "      <th>australian_terrier</th>\n",
       "      <th>basenji</th>\n",
       "      <th>basset</th>\n",
       "      <th>...</th>\n",
       "      <th>toy_poodle</th>\n",
       "      <th>toy_terrier</th>\n",
       "      <th>vizsla</th>\n",
       "      <th>walker_hound</th>\n",
       "      <th>weimaraner</th>\n",
       "      <th>welsh_springer_spaniel</th>\n",
       "      <th>west_highland_white_terrier</th>\n",
       "      <th>whippet</th>\n",
       "      <th>wire-haired_fox_terrier</th>\n",
       "      <th>yorkshire_terrier</th>\n",
       "    </tr>\n",
       "  </thead>\n",
       "  <tbody>\n",
       "    <tr>\n",
       "      <th>0</th>\n",
       "      <td>000621fb3cbb32d8935728e48679680e</td>\n",
       "      <td>1.153486e-07</td>\n",
       "      <td>2.187511e-03</td>\n",
       "      <td>2.114914e-06</td>\n",
       "      <td>2.278581e-09</td>\n",
       "      <td>0.000006</td>\n",
       "      <td>1.199448e-09</td>\n",
       "      <td>1.529291e-09</td>\n",
       "      <td>6.949303e-07</td>\n",
       "      <td>4.468284e-07</td>\n",
       "      <td>...</td>\n",
       "      <td>2.927118e-07</td>\n",
       "      <td>2.727871e-06</td>\n",
       "      <td>6.603009e-07</td>\n",
       "      <td>2.028458e-04</td>\n",
       "      <td>0.000021</td>\n",
       "      <td>4.390430e-04</td>\n",
       "      <td>1.128458e-04</td>\n",
       "      <td>1.905221e-05</td>\n",
       "      <td>1.405319e-03</td>\n",
       "      <td>1.393321e-08</td>\n",
       "    </tr>\n",
       "    <tr>\n",
       "      <th>1</th>\n",
       "      <td>00102ee9d8eb90812350685311fe5890</td>\n",
       "      <td>3.011316e-07</td>\n",
       "      <td>1.425934e-07</td>\n",
       "      <td>4.368234e-05</td>\n",
       "      <td>2.601244e-08</td>\n",
       "      <td>0.020034</td>\n",
       "      <td>4.617490e-09</td>\n",
       "      <td>6.704151e-08</td>\n",
       "      <td>1.001233e-06</td>\n",
       "      <td>5.979792e-07</td>\n",
       "      <td>...</td>\n",
       "      <td>1.401668e-07</td>\n",
       "      <td>6.961273e-03</td>\n",
       "      <td>3.443611e-06</td>\n",
       "      <td>7.779727e-03</td>\n",
       "      <td>0.000199</td>\n",
       "      <td>1.373981e-07</td>\n",
       "      <td>4.116205e-04</td>\n",
       "      <td>8.897937e-04</td>\n",
       "      <td>3.327592e-04</td>\n",
       "      <td>3.151624e-09</td>\n",
       "    </tr>\n",
       "    <tr>\n",
       "      <th>2</th>\n",
       "      <td>0012a730dfa437f5f3613fb75efcd4ce</td>\n",
       "      <td>1.946644e-06</td>\n",
       "      <td>9.076612e-04</td>\n",
       "      <td>1.560046e-04</td>\n",
       "      <td>5.647730e-05</td>\n",
       "      <td>0.001852</td>\n",
       "      <td>6.372399e-08</td>\n",
       "      <td>1.663197e-05</td>\n",
       "      <td>3.481044e-06</td>\n",
       "      <td>2.860757e-11</td>\n",
       "      <td>...</td>\n",
       "      <td>2.518292e-06</td>\n",
       "      <td>1.100546e-07</td>\n",
       "      <td>3.583698e-08</td>\n",
       "      <td>8.159421e-06</td>\n",
       "      <td>0.000019</td>\n",
       "      <td>1.554130e-06</td>\n",
       "      <td>8.364634e-06</td>\n",
       "      <td>6.283769e-03</td>\n",
       "      <td>5.048546e-03</td>\n",
       "      <td>4.963640e-09</td>\n",
       "    </tr>\n",
       "    <tr>\n",
       "      <th>3</th>\n",
       "      <td>001510bc8570bbeee98c8d80c8a95ec1</td>\n",
       "      <td>3.005015e-05</td>\n",
       "      <td>3.571810e-04</td>\n",
       "      <td>3.162294e-04</td>\n",
       "      <td>1.278744e-03</td>\n",
       "      <td>0.004033</td>\n",
       "      <td>7.059815e-05</td>\n",
       "      <td>2.085994e-05</td>\n",
       "      <td>4.554266e-04</td>\n",
       "      <td>5.965147e-03</td>\n",
       "      <td>...</td>\n",
       "      <td>4.713209e-05</td>\n",
       "      <td>5.259010e-06</td>\n",
       "      <td>1.643484e-07</td>\n",
       "      <td>1.281556e-04</td>\n",
       "      <td>0.004175</td>\n",
       "      <td>1.625946e-02</td>\n",
       "      <td>3.201071e-03</td>\n",
       "      <td>2.832899e-02</td>\n",
       "      <td>1.067934e-06</td>\n",
       "      <td>7.384482e-04</td>\n",
       "    </tr>\n",
       "    <tr>\n",
       "      <th>4</th>\n",
       "      <td>001a5f3114548acdefa3d4da05474c2e</td>\n",
       "      <td>1.527755e-03</td>\n",
       "      <td>9.017929e-02</td>\n",
       "      <td>5.201908e-05</td>\n",
       "      <td>1.462547e-04</td>\n",
       "      <td>0.001029</td>\n",
       "      <td>5.629034e-06</td>\n",
       "      <td>9.899907e-06</td>\n",
       "      <td>1.607370e-06</td>\n",
       "      <td>3.703065e-07</td>\n",
       "      <td>...</td>\n",
       "      <td>2.937516e-03</td>\n",
       "      <td>1.728219e-06</td>\n",
       "      <td>7.054161e-07</td>\n",
       "      <td>4.267359e-07</td>\n",
       "      <td>0.000099</td>\n",
       "      <td>1.057684e-05</td>\n",
       "      <td>1.023531e-04</td>\n",
       "      <td>1.737692e-05</td>\n",
       "      <td>1.811960e-03</td>\n",
       "      <td>8.863470e-06</td>\n",
       "    </tr>\n",
       "    <tr>\n",
       "      <th>10352</th>\n",
       "      <td>ffeda8623d4eee33c6d1156a2ecbfcf8</td>\n",
       "      <td>1.015005e-06</td>\n",
       "      <td>1.713828e-04</td>\n",
       "      <td>1.851055e-07</td>\n",
       "      <td>3.541116e-08</td>\n",
       "      <td>0.000199</td>\n",
       "      <td>1.949444e-09</td>\n",
       "      <td>7.921668e-09</td>\n",
       "      <td>2.731480e-09</td>\n",
       "      <td>8.914045e-10</td>\n",
       "      <td>...</td>\n",
       "      <td>4.205911e-07</td>\n",
       "      <td>4.734044e-09</td>\n",
       "      <td>6.633158e-09</td>\n",
       "      <td>5.857892e-07</td>\n",
       "      <td>0.000227</td>\n",
       "      <td>8.228062e-09</td>\n",
       "      <td>1.195221e-08</td>\n",
       "      <td>1.614768e-06</td>\n",
       "      <td>6.607539e-05</td>\n",
       "      <td>9.918729e-09</td>\n",
       "    </tr>\n",
       "    <tr>\n",
       "      <th>10353</th>\n",
       "      <td>fff1ec9e6e413275984966f745a313b0</td>\n",
       "      <td>1.608557e-04</td>\n",
       "      <td>4.021281e-07</td>\n",
       "      <td>3.260495e-05</td>\n",
       "      <td>1.089264e-03</td>\n",
       "      <td>0.000162</td>\n",
       "      <td>1.501896e-06</td>\n",
       "      <td>4.647889e-05</td>\n",
       "      <td>4.876021e-05</td>\n",
       "      <td>1.761894e-05</td>\n",
       "      <td>...</td>\n",
       "      <td>2.125159e-04</td>\n",
       "      <td>1.828193e-03</td>\n",
       "      <td>1.642158e-06</td>\n",
       "      <td>1.040337e-05</td>\n",
       "      <td>0.080084</td>\n",
       "      <td>1.529861e-05</td>\n",
       "      <td>8.578684e-07</td>\n",
       "      <td>1.416361e-01</td>\n",
       "      <td>9.642432e-05</td>\n",
       "      <td>1.263827e-04</td>\n",
       "    </tr>\n",
       "    <tr>\n",
       "      <th>10354</th>\n",
       "      <td>fff74b59b758bbbf13a5793182a9bbe4</td>\n",
       "      <td>8.227391e-11</td>\n",
       "      <td>3.555627e-07</td>\n",
       "      <td>6.140327e-07</td>\n",
       "      <td>6.049568e-06</td>\n",
       "      <td>0.000694</td>\n",
       "      <td>1.592801e-06</td>\n",
       "      <td>1.140598e-07</td>\n",
       "      <td>4.453988e-01</td>\n",
       "      <td>2.377453e-02</td>\n",
       "      <td>...</td>\n",
       "      <td>1.490005e-07</td>\n",
       "      <td>3.608882e-05</td>\n",
       "      <td>3.129998e-06</td>\n",
       "      <td>1.228144e-02</td>\n",
       "      <td>0.000010</td>\n",
       "      <td>4.200629e-04</td>\n",
       "      <td>4.799132e-07</td>\n",
       "      <td>1.589803e-04</td>\n",
       "      <td>3.041106e-07</td>\n",
       "      <td>4.101556e-08</td>\n",
       "    </tr>\n",
       "    <tr>\n",
       "      <th>10355</th>\n",
       "      <td>fff7d50d848e8014ac1e9172dc6762a3</td>\n",
       "      <td>1.283250e-03</td>\n",
       "      <td>4.835596e-05</td>\n",
       "      <td>2.701849e-06</td>\n",
       "      <td>6.016095e-03</td>\n",
       "      <td>0.000184</td>\n",
       "      <td>9.119680e-08</td>\n",
       "      <td>1.307440e-03</td>\n",
       "      <td>1.121072e-07</td>\n",
       "      <td>6.178310e-06</td>\n",
       "      <td>...</td>\n",
       "      <td>1.028060e-04</td>\n",
       "      <td>6.173384e-05</td>\n",
       "      <td>9.365701e-07</td>\n",
       "      <td>4.524942e-07</td>\n",
       "      <td>0.008996</td>\n",
       "      <td>3.606933e-06</td>\n",
       "      <td>2.763245e-03</td>\n",
       "      <td>7.725565e-07</td>\n",
       "      <td>8.744213e-04</td>\n",
       "      <td>8.503154e-02</td>\n",
       "    </tr>\n",
       "    <tr>\n",
       "      <th>10356</th>\n",
       "      <td>fffbff22c1f51e3dc80c4bf04089545b</td>\n",
       "      <td>2.110017e-05</td>\n",
       "      <td>2.516657e-01</td>\n",
       "      <td>2.228085e-07</td>\n",
       "      <td>4.420135e-07</td>\n",
       "      <td>0.000647</td>\n",
       "      <td>3.545423e-08</td>\n",
       "      <td>1.123053e-08</td>\n",
       "      <td>2.496868e-08</td>\n",
       "      <td>1.759690e-08</td>\n",
       "      <td>...</td>\n",
       "      <td>2.461188e-04</td>\n",
       "      <td>1.618414e-05</td>\n",
       "      <td>1.083887e-07</td>\n",
       "      <td>1.974891e-05</td>\n",
       "      <td>0.006691</td>\n",
       "      <td>1.647245e-05</td>\n",
       "      <td>1.349630e-06</td>\n",
       "      <td>1.789089e-05</td>\n",
       "      <td>1.430053e-02</td>\n",
       "      <td>4.402248e-07</td>\n",
       "    </tr>\n",
       "  </tbody>\n",
       "</table>\n",
       "<p>10 rows × 121 columns</p>\n",
       "</div>"
      ],
      "text/plain": [
       "                                     id  affenpinscher  afghan_hound  \\\n",
       "0      000621fb3cbb32d8935728e48679680e   1.153486e-07  2.187511e-03   \n",
       "1      00102ee9d8eb90812350685311fe5890   3.011316e-07  1.425934e-07   \n",
       "2      0012a730dfa437f5f3613fb75efcd4ce   1.946644e-06  9.076612e-04   \n",
       "3      001510bc8570bbeee98c8d80c8a95ec1   3.005015e-05  3.571810e-04   \n",
       "4      001a5f3114548acdefa3d4da05474c2e   1.527755e-03  9.017929e-02   \n",
       "10352  ffeda8623d4eee33c6d1156a2ecbfcf8   1.015005e-06  1.713828e-04   \n",
       "10353  fff1ec9e6e413275984966f745a313b0   1.608557e-04  4.021281e-07   \n",
       "10354  fff74b59b758bbbf13a5793182a9bbe4   8.227391e-11  3.555627e-07   \n",
       "10355  fff7d50d848e8014ac1e9172dc6762a3   1.283250e-03  4.835596e-05   \n",
       "10356  fffbff22c1f51e3dc80c4bf04089545b   2.110017e-05  2.516657e-01   \n",
       "\n",
       "       african_hunting_dog      airedale  american_staffordshire_terrier  \\\n",
       "0             2.114914e-06  2.278581e-09                        0.000006   \n",
       "1             4.368234e-05  2.601244e-08                        0.020034   \n",
       "2             1.560046e-04  5.647730e-05                        0.001852   \n",
       "3             3.162294e-04  1.278744e-03                        0.004033   \n",
       "4             5.201908e-05  1.462547e-04                        0.001029   \n",
       "10352         1.851055e-07  3.541116e-08                        0.000199   \n",
       "10353         3.260495e-05  1.089264e-03                        0.000162   \n",
       "10354         6.140327e-07  6.049568e-06                        0.000694   \n",
       "10355         2.701849e-06  6.016095e-03                        0.000184   \n",
       "10356         2.228085e-07  4.420135e-07                        0.000647   \n",
       "\n",
       "        appenzeller  australian_terrier       basenji        basset  \\\n",
       "0      1.199448e-09        1.529291e-09  6.949303e-07  4.468284e-07   \n",
       "1      4.617490e-09        6.704151e-08  1.001233e-06  5.979792e-07   \n",
       "2      6.372399e-08        1.663197e-05  3.481044e-06  2.860757e-11   \n",
       "3      7.059815e-05        2.085994e-05  4.554266e-04  5.965147e-03   \n",
       "4      5.629034e-06        9.899907e-06  1.607370e-06  3.703065e-07   \n",
       "10352  1.949444e-09        7.921668e-09  2.731480e-09  8.914045e-10   \n",
       "10353  1.501896e-06        4.647889e-05  4.876021e-05  1.761894e-05   \n",
       "10354  1.592801e-06        1.140598e-07  4.453988e-01  2.377453e-02   \n",
       "10355  9.119680e-08        1.307440e-03  1.121072e-07  6.178310e-06   \n",
       "10356  3.545423e-08        1.123053e-08  2.496868e-08  1.759690e-08   \n",
       "\n",
       "             ...            toy_poodle   toy_terrier        vizsla  \\\n",
       "0            ...          2.927118e-07  2.727871e-06  6.603009e-07   \n",
       "1            ...          1.401668e-07  6.961273e-03  3.443611e-06   \n",
       "2            ...          2.518292e-06  1.100546e-07  3.583698e-08   \n",
       "3            ...          4.713209e-05  5.259010e-06  1.643484e-07   \n",
       "4            ...          2.937516e-03  1.728219e-06  7.054161e-07   \n",
       "10352        ...          4.205911e-07  4.734044e-09  6.633158e-09   \n",
       "10353        ...          2.125159e-04  1.828193e-03  1.642158e-06   \n",
       "10354        ...          1.490005e-07  3.608882e-05  3.129998e-06   \n",
       "10355        ...          1.028060e-04  6.173384e-05  9.365701e-07   \n",
       "10356        ...          2.461188e-04  1.618414e-05  1.083887e-07   \n",
       "\n",
       "       walker_hound  weimaraner  welsh_springer_spaniel  \\\n",
       "0      2.028458e-04    0.000021            4.390430e-04   \n",
       "1      7.779727e-03    0.000199            1.373981e-07   \n",
       "2      8.159421e-06    0.000019            1.554130e-06   \n",
       "3      1.281556e-04    0.004175            1.625946e-02   \n",
       "4      4.267359e-07    0.000099            1.057684e-05   \n",
       "10352  5.857892e-07    0.000227            8.228062e-09   \n",
       "10353  1.040337e-05    0.080084            1.529861e-05   \n",
       "10354  1.228144e-02    0.000010            4.200629e-04   \n",
       "10355  4.524942e-07    0.008996            3.606933e-06   \n",
       "10356  1.974891e-05    0.006691            1.647245e-05   \n",
       "\n",
       "       west_highland_white_terrier       whippet  wire-haired_fox_terrier  \\\n",
       "0                     1.128458e-04  1.905221e-05             1.405319e-03   \n",
       "1                     4.116205e-04  8.897937e-04             3.327592e-04   \n",
       "2                     8.364634e-06  6.283769e-03             5.048546e-03   \n",
       "3                     3.201071e-03  2.832899e-02             1.067934e-06   \n",
       "4                     1.023531e-04  1.737692e-05             1.811960e-03   \n",
       "10352                 1.195221e-08  1.614768e-06             6.607539e-05   \n",
       "10353                 8.578684e-07  1.416361e-01             9.642432e-05   \n",
       "10354                 4.799132e-07  1.589803e-04             3.041106e-07   \n",
       "10355                 2.763245e-03  7.725565e-07             8.744213e-04   \n",
       "10356                 1.349630e-06  1.789089e-05             1.430053e-02   \n",
       "\n",
       "       yorkshire_terrier  \n",
       "0           1.393321e-08  \n",
       "1           3.151624e-09  \n",
       "2           4.963640e-09  \n",
       "3           7.384482e-04  \n",
       "4           8.863470e-06  \n",
       "10352       9.918729e-09  \n",
       "10353       1.263827e-04  \n",
       "10354       4.101556e-08  \n",
       "10355       8.503154e-02  \n",
       "10356       4.402248e-07  \n",
       "\n",
       "[10 rows x 121 columns]"
      ]
     },
     "execution_count": 33,
     "metadata": {},
     "output_type": "execute_result"
    }
   ],
   "source": [
    "# get column names\n",
    "pred_colnames = list(breeds.values())\n",
    "pred_colnames.insert(0, 'id')\n",
    "\n",
    "# make empty pandas dataframe\n",
    "pred_matrix_kaggle = pd.DataFrame(columns=pred_colnames)\n",
    "\n",
    "for img in range(0, len(predict)):           \n",
    "    pred_list = [pred for pred in predict[img]]\n",
    "    pred_list.insert(0, kaggle_gen.filenames[img].replace('test\\\\', '').replace('.jpg', ''))\n",
    "    pred_matrix_kaggle = pred_matrix_kaggle.append(pd.DataFrame([pred_list], columns=pred_colnames), ignore_index=True)    \n",
    "    \n",
    "print(\"Rows in prediction matrix:\", len(pred_matrix_kaggle))\n",
    "\n",
    "# display head and tail of prediction matrix from test set\n",
    "pred_matrix_kaggle.iloc[np.r_[0:5, -5:0]]"
   ]
  },
  {
   "cell_type": "markdown",
   "metadata": {},
   "source": [
    "### Save predictions as csv file:"
   ]
  },
  {
   "cell_type": "code",
   "execution_count": 34,
   "metadata": {},
   "outputs": [],
   "source": [
    "pred_matrix_kaggle.to_csv(\"kaggle_submission_dog_breeds.csv\", index=False)"
   ]
  },
  {
   "cell_type": "markdown",
   "metadata": {},
   "source": [
    "# STEP 5: CONCLUSIONS\n",
    "##### Developing a model from scratch is a difficult task, which involves a lot of trial and error when choosing the right CNN architecture and hyperparameters. While model 1 allowed us to correctly predict the breed on about 22% of the test images, if we expand our definition of classification to include the 5 five most likely breeds, as we have done in this experiment, we are able to correctly narrow down the actual dog breed  in about half of the predicted images. \n",
    "##### Such approach can prove useful when we have breeds, or any other label, where images from different categories look very similar to each other; and the number of labels is relatively large while the number of images for training is relatively low. In this case, we have 120 classes to predict from, but just around 10,000 images to split into train, validate and test sets.\n",
    "##### To compensate for the small number of images, we added data augmentation to the training process. However, because these augmented images are highly correlated to their parent image, the benefit is not as large as feeding larger sets of independent images.\n",
    "##### Now, while the model still has a lot of room for improvement, a simple way to quickly glance its usefulness and significance is to calculate the probability of getting 226 successes, at random, out of 1022 trials, with a probability of 1/120 for each try. This can be modeled using a binonial distribution as follows:  binom(x=226, n=1022, p=1/120) = 1.56e-240"
   ]
  },
  {
   "cell_type": "code",
   "execution_count": 36,
   "metadata": {},
   "outputs": [
    {
     "data": {
      "text/plain": [
       "1.5617399347657472e-240"
      ]
     },
     "execution_count": 36,
     "metadata": {},
     "output_type": "execute_result"
    }
   ],
   "source": [
    "from scipy.stats import binom\n",
    "x, n, p = 226, 1022, 1/120\n",
    "binom.pmf(x, n, p)"
   ]
  },
  {
   "cell_type": "markdown",
   "metadata": {},
   "source": [
    "##### Given that the probability of getting 226 successes from 1022 trials, with a probability of 1/120, is almost zero, we can conclude that our model works and it's a step in the right direction. \n",
    "\n",
    "##### Finally, some ways to improve the model, that do not involve transfer learning, include:\n",
    "- Significantly add more images for training\n",
    "- Increase width and height of the images used (along with better hardware to fit larger-sized images)\n",
    "- Keep tweaking the model architecture"
   ]
  }
 ],
 "metadata": {
  "kernelspec": {
   "display_name": "Python 3",
   "language": "python",
   "name": "python3"
  },
  "language_info": {
   "codemirror_mode": {
    "name": "ipython",
    "version": 3
   },
   "file_extension": ".py",
   "mimetype": "text/x-python",
   "name": "python",
   "nbconvert_exporter": "python",
   "pygments_lexer": "ipython3",
   "version": "3.6.5"
  }
 },
 "nbformat": 4,
 "nbformat_minor": 2
}
